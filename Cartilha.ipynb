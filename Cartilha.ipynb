{
 "cells": [
  {
   "cell_type": "markdown",
   "metadata": {},
   "source": [
    "Dataframe é uma tabela dentro do python, onde cada coluna da tabela é uma série do pandas\n",
    "Se um dia encontrar \"pd.serie\", ou seja, uma serie do pandas é uma coluna do seu dataframe/tabela"
   ]
  },
  {
   "cell_type": "markdown",
   "metadata": {},
   "source": [
    "Importando o pandas"
   ]
  },
  {
   "cell_type": "code",
   "execution_count": 2,
   "metadata": {},
   "outputs": [],
   "source": [
    "import pandas as pd"
   ]
  },
  {
   "cell_type": "markdown",
   "metadata": {},
   "source": [
    "O pandas precisa da biblioteca openpyxl para trabalhar com arquivos do Excel no formato .xlsx ."
   ]
  },
  {
   "cell_type": "code",
   "execution_count": null,
   "metadata": {},
   "outputs": [],
   "source": [
    "import openpyxl "
   ]
  },
  {
   "cell_type": "markdown",
   "metadata": {},
   "source": [
    "1° Metodo de cria um DataFrame\n",
    "\n",
    "=== Criando um dataframe vazio ===\n",
    "\"DataFrame\" é um metodo do pandas que cria um DataFrame, que cria uma tabela"
   ]
  },
  {
   "cell_type": "code",
   "execution_count": null,
   "metadata": {},
   "outputs": [],
   "source": [
    "dataframe = pd.DataFrame() "
   ]
  },
  {
   "cell_type": "markdown",
   "metadata": {},
   "source": [
    "2° Metodo de criar um DataFrame\n",
    "\n",
    "=== Criando um dataframe a partir de um dicionário do python ==="
   ]
  },
  {
   "cell_type": "code",
   "execution_count": 3,
   "metadata": {},
   "outputs": [],
   "source": [
    "venda = {'data': ['15/02/2021','16/02/2021'], #Data da venda\n",
    "         'valor': [500, 300], #Valor que foi vendido\n",
    "         'produto': ['feijao', 'arroz'], #Produto que foi vendido\n",
    "         'qtde': [50,70],} #Quantidade que foi vendido"
   ]
  },
  {
   "cell_type": "markdown",
   "metadata": {},
   "source": [
    "Criando uma tabela/dataframe a partir de um dicionario que já existe"
   ]
  },
  {
   "cell_type": "code",
   "execution_count": 5,
   "metadata": {},
   "outputs": [],
   "source": [
    "vendas_df = pd.DataFrame(venda) #Dataframe de vendas"
   ]
  },
  {
   "cell_type": "markdown",
   "metadata": {},
   "source": [
    "Visualização dos Dados, DataFrame\n",
    "- print\n",
    "- display"
   ]
  },
  {
   "cell_type": "code",
   "execution_count": null,
   "metadata": {},
   "outputs": [],
   "source": [
    "print(vendas_df) #Exibe como se fosse um bloco de texto"
   ]
  },
  {
   "cell_type": "code",
   "execution_count": null,
   "metadata": {},
   "outputs": [],
   "source": [
    "display(vendas_df) #Visualiza melhor as informações com estilizações, utilizando o display"
   ]
  },
  {
   "cell_type": "markdown",
   "metadata": {},
   "source": [
    "=== Importando arquivos apartir de uma bases de dados ==="
   ]
  },
  {
   "cell_type": "code",
   "execution_count": null,
   "metadata": {},
   "outputs": [],
   "source": [
    "vendas_df = pd.read_excel(\"Vendas.xlsx\") #Vai ler o arquivo excel \"Vendas\" e vai transformar esse arquivo em uma tabela. Nesse caso a base de dados \"Vendas.xlsx\" está no mesmo local que o arquivo que está o nosso código\n",
    "display(vendas_df)"
   ]
  },
  {
   "cell_type": "markdown",
   "metadata": {},
   "source": [
    "Se a base de dados estiver em outro lugar, tem que colocar o caminho completo da base de dados"
   ]
  },
  {
   "cell_type": "code",
   "execution_count": null,
   "metadata": {},
   "outputs": [],
   "source": [
    "\n",
    "vendas_df = pd.read_excel(r\"C:\\Users\\bruno\\Documents\\Rocketseat - 2024\\Python-Treino\\PANDAS-PYTHON\\Vendas.xlsx\")\n",
    "display(vendas_df)"
   ]
  },
  {
   "cell_type": "markdown",
   "metadata": {},
   "source": [
    "Resumos de Visualização de Dados simples e úteis\n",
    "- head\n",
    "- shape\n",
    "- describe"
   ]
  },
  {
   "cell_type": "code",
   "execution_count": null,
   "metadata": {},
   "outputs": [],
   "source": [
    "display(vendas_df.head()) #O metodo head só mostra os 5 primeiros itens/linhas do DataFrame"
   ]
  },
  {
   "cell_type": "code",
   "execution_count": null,
   "metadata": {},
   "outputs": [],
   "source": [
    "display(vendas_df.head(10)) #Caso eu queira mostrar os 10 primeiros itens/linhas do DataFrame"
   ]
  },
  {
   "cell_type": "code",
   "execution_count": null,
   "metadata": {},
   "outputs": [],
   "source": [
    "print(vendas_df.shape) #O metodo shape, mostra quantos linhas e quantos colunas tem dentro da sua tabela. Independente do tamanho da tabela, esse comando executa muito rápido"
   ]
  },
  {
   "cell_type": "markdown",
   "metadata": {},
   "source": [
    "O \"describe()\" vai basicamente pegar as colunas númericas e vai dar o resumo. Vai dar uma visão geral das informações"
   ]
  },
  {
   "cell_type": "code",
   "execution_count": null,
   "metadata": {},
   "outputs": [],
   "source": [
    "display(vendas_df.describe()) #Esse comando vai pegar as colunas númericas e vai dar o resumo"
   ]
  },
  {
   "cell_type": "markdown",
   "metadata": {},
   "source": [
    "Pegar 1 coluna (e os pd.Serie)\n",
    "\n",
    "Caso eu não queira olhar todas as colunas, quero mostrar na tela somente a coluna de produtos da minha tabela \"vendas_df\""
   ]
  },
  {
   "cell_type": "code",
   "execution_count": null,
   "metadata": {},
   "outputs": [],
   "source": [
    "produtos = vendas_df['Produto'] #Quero visualizar na tela, somente uma coluna do arquivo excel, ou seja, a coluna \"Produto\". Esse display não veio estilizado, porque estamos pegando uma única coluna, ou seja, isso não é um dataframe. É uma serie do pandas\n",
    "display(produtos)"
   ]
  },
  {
   "cell_type": "code",
   "execution_count": null,
   "metadata": {},
   "outputs": [],
   "source": [
    "produtos = vendas_df[['Produto', 'ID Loja']]#Quero visualizar na tela, somente duas coluna do arquivo excel, ou seja, a coluna \"Produto\" e a coluna \"ID Loja\"\n",
    "display(produtos)"
   ]
  },
  {
   "cell_type": "markdown",
   "metadata": {},
   "source": [
    "Metodo .loc permite pegar:\n",
    "\n",
    "- Pegar 1 unica linha\n",
    "- Pegar linhas de acordo com alguma condição. Exemplo: Quero pegar todas as linhas da loja \"iguatemi esplanada\", ou todas as linhas do produto \"calça\"\n",
    "- Pegar linhas e colunas especificas. Exemplo: Quero conseguir pegar as duas últimas colunas até a decima linha da minha tabela\n",
    "- Pegar um valor especifico "
   ]
  },
  {
   "cell_type": "code",
   "execution_count": null,
   "metadata": {},
   "outputs": [],
   "source": [
    "#Uma única linha da tabela também é uma serie do pandas\n",
    "\n",
    "#Exemplo: Pegando uma linha especifica\n",
    "display(vendas_df.loc[1]) #Metodo .loc sempre olha os índices"
   ]
  },
  {
   "cell_type": "code",
   "execution_count": null,
   "metadata": {},
   "outputs": [],
   "source": [
    "#Exemplo: Pegando uma linha especifica, nesse caso da linha 1 até a linha 5\n",
    "display(vendas_df.loc[1:5])"
   ]
  },
  {
   "cell_type": "code",
   "execution_count": null,
   "metadata": {},
   "outputs": [],
   "source": [
    "#Pegar todas as linhas que correspondem a uma condição\n",
    "\n",
    "#Quero pegar todas as linhas da tabela em que a loja e \"Norte Shopping\" e mostrar na tela\n",
    "\n",
    "#Quero pegar todas as linhas \"vendas_df.loc[]\", onde a coluna de loja \"vendas_df['ID Loja']\" for igual a \"Norte Shopping\"\n",
    "display(vendas_df.loc[vendas_df['ID Loja'] == 'Norte Shopping'])\n"
   ]
  },
  {
   "cell_type": "code",
   "execution_count": null,
   "metadata": {},
   "outputs": [],
   "source": [
    "#Pegar todas as linhas que correspondem a uma condição\n",
    "\n",
    "#Quero pegar todas as linhas da tabela em que a loja e \"Norte Shopping\" e armazenar na variavel \"vendas_norteshopping_df\"\n",
    "\n",
    "#Quero pegar todas as linhas \"vendas_df.loc[]\", onde a coluna de loja \"vendas_df['ID Loja']\" for igual a \"Norte Shopping\"\n",
    "vendas_norteshopping_df = vendas_df.loc[vendas_df['ID Loja'] == 'Norte Shopping']\n",
    "display(vendas_norteshopping_df)"
   ]
  },
  {
   "cell_type": "code",
   "execution_count": null,
   "metadata": {},
   "outputs": [],
   "source": [
    "# Pegar várias linhas e colunas usando o Loc\n",
    "\n",
    "# O padrão do loc é linhas e colunas\n",
    "#vendas_norteshopping_df = vendas_df.loc[vendas_df[linhas, colunas]\n",
    "\n",
    "#Quero as linhas onde a loja é 'Norte Shopping'. Quero as colunas \"ID Loja\", \"Produto\" e \"Quantidade\" \n",
    "vendas_norteshopping_df = vendas_df.loc[vendas_df['ID Loja'] == 'Norte Shopping', [\"ID Loja\", \"Produto\", \"Quantidade\"]]\n",
    "display(vendas_norteshopping_df)"
   ]
  },
  {
   "cell_type": "code",
   "execution_count": 33,
   "metadata": {},
   "outputs": [
    {
     "name": "stdout",
     "output_type": "stream",
     "text": [
      "Camiseta\n"
     ]
    }
   ],
   "source": [
    "# Pegar 1 valor especifico \n",
    "#print(vendas_df.loc[linhas, coluna])\n",
    "\n",
    "#Quero pegar a linha 1 e a coluna \"Produto\"\n",
    "print(vendas_df.loc[1, 'Produto'])"
   ]
  },
  {
   "cell_type": "markdown",
   "metadata": {},
   "source": [
    "Adicionando uma coluna nova \n",
    "\n",
    "Observação: No pandas existe duas grandes formas de você adicionar uma coluna nova.\n",
    "Você adiciona a partir de uma coluna que já existe ou você cria uma coluna nova com valores padrões. Por uma coluna que já existe é mais simples"
   ]
  },
  {
   "cell_type": "code",
   "execution_count": null,
   "metadata": {},
   "outputs": [],
   "source": [
    "# ===== Criando uma nova coluna a partir de uma coluna que existe =====\n",
    "\n",
    "# Quero criar uma coluna nova que é a comissão do vendedor, sendo que o vendedor ganha 5% de comissão do \"Valor Final\"\n",
    "\n",
    "#O calculo seria \"Valor Final\" * 0,05\n",
    "\n",
    "#Se já tiver a coluna \"Comissão\", vai ser substituida a coluna comissão pelo novo valor dela que é \"vendas_df['Valor Final'] * 0.05\". Se não existir essa coluna comissão, ele vai criar uma nova coluna automaticamente. Aqui eu criei uma coluna a partir de uma coluna que já existe que é \"Valor Final\"\n",
    "vendas_df['Comissão'] = vendas_df['Valor Final'] * 0.05\n",
    "display(vendas_df)"
   ]
  },
  {
   "cell_type": "code",
   "execution_count": null,
   "metadata": {},
   "outputs": [],
   "source": [
    "# ===== Criando uma coluna com valor padrão =====\n",
    "\n",
    "#Criando uma coluna nova que depois eu vou preencher ela.\n",
    "\n",
    "# Quero criar uma coluna de \"imposto\", com o valor 0 para todo mundo\n",
    "vendas_df['Imposto'] = 0\n",
    "display(vendas_df)"
   ]
  },
  {
   "cell_type": "code",
   "execution_count": null,
   "metadata": {},
   "outputs": [],
   "source": [
    "# As vezes quando você utiliza condições mais complexas, o pandas pode reclamar dessa maneira acima de criar uma coluna com valor 0.\n",
    "#Se a gente estiver falando de uma tabela muito grande ou condições mais complexas, normalmente o pandas recomenda que você preencha essa informação colocando \".loc\" passando a \"linha\" e a \"coluna\" que você quer preencher com o valor 0\n",
    "\n",
    "#vendas_df.loc[linha, coluna] = 0\n",
    "\n",
    "# dois pontos \":\" para o pandas, significa todas as linhas ou todas as colunas\n",
    "\n",
    "#Explicando o comando abaixo: Na coluna de \"Imposto\" eu vou preencher todas as linhas com o valor \"0\". \n",
    "\n",
    "#Observação: Como estamos colocando nessa coluna um valor fixo para todas as linhas, é recomendado a utilização do método .loc\n",
    "vendas_df.loc[:, \"Imposto\"] = 0\n",
    "display(vendas_df)"
   ]
  },
  {
   "cell_type": "markdown",
   "metadata": {},
   "source": [
    "Adicionar 1 linha\n",
    "\n",
    "- Linhas de um complemento da base de dados"
   ]
  },
  {
   "cell_type": "code",
   "execution_count": null,
   "metadata": {},
   "outputs": [],
   "source": [
    "vendas_dez_df = pd.read_excel(\"Vendas - Dez.xlsx\")\n",
    "display(vendas_dez_df)"
   ]
  },
  {
   "cell_type": "code",
   "execution_count": null,
   "metadata": {},
   "outputs": [],
   "source": [
    "#Quero armazenar as respostas/novo valor na variavel \"vendas_df\". Agora será \"vendas_df\", adicionando \"append(vendas_dez_df)\"\n",
    "\n",
    "#vendas_df = vendas_df.append(vendas_dez_df)\n",
    "#display(vendas_df)\n",
    "\n",
    "# O método \"append\" foi removido do Pandas na versão 2.0.0\n",
    "\n",
    "# Substitua a linha com o método `append` pelo uso de `pd.concat`\n",
    "vendas_df = pd.concat([vendas_df, vendas_dez_df], ignore_index=True)\n",
    "\n",
    "# Exibe o DataFrame atualizado\n",
    "display(vendas_df)\n",
    "\n",
    "#NaN significa que estão vazias\n"
   ]
  },
  {
   "cell_type": "markdown",
   "metadata": {},
   "source": [
    "Excluir linhas e colunas\n",
    "\n",
    "Observação:\n",
    "No caso de excluir colunas, colocamos o eixo = 1\n",
    "No caso de excluir linhas, colocamos o eixo = 0\n",
    "\n",
    "Importante: Sempre devemos passar a informação do eixo"
   ]
  },
  {
   "cell_type": "code",
   "execution_count": null,
   "metadata": {},
   "outputs": [],
   "source": [
    "#Excluindo a coluna \"Imposto\"\n",
    "\n",
    "vendas_df = vendas_df.drop(\"Imposto\", axis=1) #axis é o eixo\n",
    "display(vendas_df)"
   ]
  },
  {
   "cell_type": "code",
   "execution_count": null,
   "metadata": {},
   "outputs": [],
   "source": [
    "#Excluindo a linha de indice \"0\"\n",
    "vendas_df = vendas_df.drop(0, axis=0) #axis é o eixo\n",
    "display(vendas_df)\n"
   ]
  },
  {
   "cell_type": "markdown",
   "metadata": {},
   "source": [
    "Comando para tratar valores vazios\n",
    "\n",
    "- Deletar linhas/colunas vazias\n",
    "- Deletar linhas que possuem valores vazios\n",
    "- Preencher valores vazios (média e último valor)"
   ]
  },
  {
   "cell_type": "code",
   "execution_count": null,
   "metadata": {},
   "outputs": [],
   "source": [
    "#Deletar linhas e colunas completamente vazias, ou seja, que todos os valores sejam vazios\n",
    "#dropna() exclui valores vazios. Se passar o parametro \"all\" ele vai excluir linhas e colunas que são completamente vazias\n",
    "\n",
    "#Excluindo todas as linhas que são completamente vazias\n",
    "vendas_df = vendas_df.dropna(how='all')\n",
    "\n",
    "#Excluindo todas as linhas e colunas que são completamente vazias, exclui todos valores vazios\n",
    "vendas_df = vendas_df.dropna(how='all', axis=1)"
   ]
  },
  {
   "cell_type": "code",
   "execution_count": null,
   "metadata": {},
   "outputs": [],
   "source": []
  }
 ],
 "metadata": {
  "kernelspec": {
   "display_name": ".venv",
   "language": "python",
   "name": "python3"
  },
  "language_info": {
   "codemirror_mode": {
    "name": "ipython",
    "version": 3
   },
   "file_extension": ".py",
   "mimetype": "text/x-python",
   "name": "python",
   "nbconvert_exporter": "python",
   "pygments_lexer": "ipython3",
   "version": "3.10.4"
  }
 },
 "nbformat": 4,
 "nbformat_minor": 2
}
